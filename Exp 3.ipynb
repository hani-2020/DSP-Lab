{
 "cells": [
  {
   "cell_type": "code",
   "execution_count": 6,
   "id": "cd9c1e4a",
   "metadata": {},
   "outputs": [],
   "source": [
    "import numpy as np\n",
    "import scipy\n",
    "from scipy.fftpack import fft,ifft\n",
    "#a\n",
    "def circonv(g, h):\n",
    "    if g.size != h.size:\n",
    "        raise Exception(\"Sequences not of same length\")\n",
    "    N = g.size \n",
    "    htr=np.concatenate([[h[0]], h[:0:-1]])\n",
    "    y=np.zeros(N)\n",
    "    for n in np.arange(N):\n",
    "        y[n]=np.sum(g*htr)\n",
    "        htr=np.roll(htr,1)\n",
    "    return y"
   ]
  },
  {
   "cell_type": "code",
   "execution_count": 7,
   "id": "3324d543",
   "metadata": {},
   "outputs": [],
   "source": [
    "#b\n",
    "def modcirconv(g, h):\n",
    "    if g.size != h.size:\n",
    "        k=np.zeros(np.abs(g.size-h.size),dtype=\"int\")\n",
    "        if g.size>h.size:\n",
    "            h=np.concatenate([h,k])\n",
    "        else:\n",
    "            g=np.concatenate([g,k])\n",
    "    N = g.size \n",
    "    htr=np.concatenate([[h[0]], h[:0:-1]]) \n",
    "    y=np.zeros(N)\n",
    "    for n in np.arange(N):\n",
    "        y[n]=np.sum(g*htr)\n",
    "        htr=np.roll(htr,1)\n",
    "    return y"
   ]
  },
  {
   "cell_type": "code",
   "execution_count": 8,
   "id": "4ed68f18",
   "metadata": {},
   "outputs": [
    {
     "data": {
      "text/plain": [
       "array([15., 13., 15., 17.])"
      ]
     },
     "execution_count": 8,
     "metadata": {},
     "output_type": "execute_result"
    }
   ],
   "source": [
    "p=np.array([1,2,3,4,])\n",
    "q=np.array([2,2,1,1])\n",
    "circonv(p,q)"
   ]
  },
  {
   "cell_type": "code",
   "execution_count": 5,
   "id": "58223121",
   "metadata": {},
   "outputs": [
    {
     "data": {
      "text/plain": [
       "array([17., 13., 19., 20., 21.])"
      ]
     },
     "execution_count": 5,
     "metadata": {},
     "output_type": "execute_result"
    }
   ],
   "source": [
    "#c\n",
    "p=np.array([1,2,3,4,])\n",
    "q=np.array([2,2,0,1,1])\n",
    "modcirconv(p,q)"
   ]
  },
  {
   "cell_type": "code",
   "execution_count": 8,
   "id": "330fd181",
   "metadata": {},
   "outputs": [
    {
     "name": "stdout",
     "output_type": "stream",
     "text": [
      "[17.+0.j 13.+0.j 19.+0.j 20.+0.j 21.+0.j]\n"
     ]
    }
   ],
   "source": [
    "#d\n",
    "P=fft(p)\n",
    "Q=fft(q)\n",
    "Y=ifft(P*Q)\n",
    "print(Y)"
   ]
  },
  {
   "cell_type": "code",
   "execution_count": 11,
   "id": "c31f26fe",
   "metadata": {},
   "outputs": [
    {
     "name": "stdout",
     "output_type": "stream",
     "text": [
      "[15 13 15 17]\n"
     ]
    }
   ],
   "source": [
    "#e\n",
    "a=scipy.linalg.circulant(q)\n",
    "y=a@p\n",
    "print(y)"
   ]
  },
  {
   "cell_type": "code",
   "execution_count": 6,
   "id": "bbd724da",
   "metadata": {},
   "outputs": [
    {
     "name": "stdout",
     "output_type": "stream",
     "text": [
      "[ 2.  5. 10.  8.  8.  3.]\n"
     ]
    }
   ],
   "source": [
    "#f\n",
    "p=np.array([2,1,2,1])\n",
    "q=np.array([1,2,3])\n",
    "def conv(g,h):\n",
    "    l1=g.size\n",
    "    l2=h.size\n",
    "    N=l1+l2-1\n",
    "    n1=np.zeros(np.abs(N-l1-1),dtype=\"int\")\n",
    "    n2=np.zeros(np.abs(N-l2-1),dtype=\"int\")\n",
    "    h =np.concatenate([h,n1])\n",
    "    g =np.concatenate([g,n2])\n",
    "    y=modcirconv(g,h)\n",
    "    return y\n",
    "print(conv(p,q))"
   ]
  },
  {
   "cell_type": "code",
   "execution_count": 36,
   "id": "84ad503b",
   "metadata": {},
   "outputs": [
    {
     "name": "stdout",
     "output_type": "stream",
     "text": [
      "1398144 1398143.9999999998\n"
     ]
    }
   ],
   "source": [
    "#h\n",
    "g = np.concatenate([np.arange(128), np.arange(128,-1,-1)])\n",
    "LHS = np.sum(g**2)\n",
    "G = fft(g)\n",
    "RHS = 1/G.size * np.sum(np.abs(G)**2)\n",
    "print(LHS, RHS)"
   ]
  },
  {
   "cell_type": "code",
   "execution_count": 50,
   "id": "982289be",
   "metadata": {},
   "outputs": [
    {
     "name": "stdout",
     "output_type": "stream",
     "text": [
      "3214495.577895778 3214495.577895778\n"
     ]
    }
   ],
   "source": [
    "#i\n",
    "a=100*np.random.random_sample(500)\n",
    "b=100*np.random.random_sample(500)\n",
    "c=a + 1j*b\n",
    "LHS = np.sum(np.abs(c**2))\n",
    "G = fft(c)\n",
    "RHS = 1/G.size * np.sum(np.abs(G)**2)\n",
    "print(LHS, RHS)"
   ]
  },
  {
   "cell_type": "code",
   "execution_count": 5,
   "id": "1143a08a",
   "metadata": {},
   "outputs": [
    {
     "name": "stdout",
     "output_type": "stream",
     "text": [
      "[1. 3. 6. 6. 4. 1.]\n"
     ]
    }
   ],
   "source": [
    "g=np.array([1,1,1,0,0,0])\n",
    "h=np.array([1,2,3,1,0,0])\n",
    "print(circonv(g, h))"
   ]
  },
  {
   "cell_type": "code",
   "execution_count": null,
   "id": "5b8de6e4",
   "metadata": {},
   "outputs": [],
   "source": []
  }
 ],
 "metadata": {
  "kernelspec": {
   "display_name": "Python 3 (ipykernel)",
   "language": "python",
   "name": "python3"
  },
  "language_info": {
   "codemirror_mode": {
    "name": "ipython",
    "version": 3
   },
   "file_extension": ".py",
   "mimetype": "text/x-python",
   "name": "python",
   "nbconvert_exporter": "python",
   "pygments_lexer": "ipython3",
   "version": "3.9.12"
  }
 },
 "nbformat": 4,
 "nbformat_minor": 5
}
