{
 "cells": [
  {
   "cell_type": "code",
   "execution_count": 1,
   "id": "982a2d9d",
   "metadata": {},
   "outputs": [],
   "source": [
    "import numpy as np\n",
    "import matplotlib.pyplot as plt\n",
    "import math\n",
    "from scipy.fft import fft, fftfreq"
   ]
  },
  {
   "cell_type": "code",
   "execution_count": 2,
   "id": "5ca0d3c5",
   "metadata": {},
   "outputs": [],
   "source": [
    "x=[5,4,1,7,9,2,5,8]"
   ]
  },
  {
   "cell_type": "code",
   "execution_count": 3,
   "id": "5974c38f",
   "metadata": {},
   "outputs": [],
   "source": [
    "def bitsize(x):\n",
    "    return int(math.log(len(x),2))"
   ]
  },
  {
   "cell_type": "code",
   "execution_count": 4,
   "id": "af4e4225",
   "metadata": {},
   "outputs": [],
   "source": [
    "def bitrev(x,size):\n",
    "    binary=bin(x)\n",
    "    reverse=binary[-1:1:-1]\n",
    "    reverse=reverse+'0'*(size-len(reverse))\n",
    "    return int(reverse,2)"
   ]
  },
  {
   "cell_type": "code",
   "execution_count": 5,
   "id": "53352420",
   "metadata": {},
   "outputs": [
    {
     "name": "stdout",
     "output_type": "stream",
     "text": [
      "[41.+0.j -2.+3.j  8.+9.j -6.-5.j -1.+0.j -6.+5.j  8.-9.j -2.-3.j]\n",
      "[41.-0.j -2.+3.j  8.+9.j -6.-5.j -1.-0.j -6.+5.j  8.-9.j -2.-3.j]\n"
     ]
    }
   ],
   "source": [
    "def mfft(x):\n",
    "    l=bitsize(x)\n",
    "    xrev=[0]*len(x)\n",
    "    X=[0]*len(x)\n",
    "    #X1=[0]*len(x)\n",
    "    #X2=[0]*len(x)\n",
    "    arr1=[0]*int(len(x)/2)\n",
    "    arr2=[0]*int(len(x)/2)\n",
    "    stage=int(math.log(len(x),2))\n",
    "    for i in range(len(x)):\n",
    "        xrev[i]=x[i]\n",
    "    for i in range(stage):\n",
    "        sum=0\n",
    "        for n in range(2**(stage-i-1)):\n",
    "            arr1[n]=sum\n",
    "            sum=sum+1\n",
    "        for n in range(2**(stage-i-1),int(len(x)/2)):\n",
    "            arr1[n]=arr1[n-(2**(stage-i-1))]+2**(stage-i)\n",
    "        for n in range(int(len(x)/2)):\n",
    "            arr2[n]=arr1[n]+2**(stage-i-1)\n",
    "        #print(f\"{i+1}th stage addition indexes={arr1}\")\n",
    "        #print(f\"{i+1}th stage subtraction indexes={arr2}\")\n",
    "        for n in range(int(len(x)/2)):\n",
    "            X[arr1[n]]=xrev[arr1[n]]+xrev[arr2[n]]\n",
    "            #X1[arr1[n]]=xrev[arr2[n]]+xrev[arr1[n]]\n",
    "        #print(f\"{i+1}th stage addition portion={np.round(X1,3)}\")\n",
    "        k=0\n",
    "        w=np.exp(-1j*2*np.pi/2**(stage-i))\n",
    "        for n in range(int(len(x)/2)):\n",
    "            if k<2**(stage-i-1):\n",
    "                X[arr2[n]]=(xrev[arr1[n]]-xrev[arr2[n]])*(w**k)\n",
    "                #X2[arr2[n]]=(xrev[arr1[n]]-xrev[arr2[n]])*(w**k)\n",
    "                #print(f\"{i+1}th stage subtraction portion w**k={np.round(w**k,3)}\")\n",
    "                k=k+1\n",
    "            else:\n",
    "                k=0\n",
    "                X[arr2[n]]=(xrev[arr1[n]]-xrev[arr2[n]])*(w**k)\n",
    "                #X2[arr2[n]]=(xrev[arr1[n]]-xrev[arr2[n]])*(w**k)\n",
    "                #print(f\"{i+1}th stage subtraction portion w**k={np.round(w**k,3)}\")\n",
    "                k=k+1\n",
    "        #print(f\"{i+1}th stage subtraction portion={np.round(X2,3)}\")\n",
    "        for n in range(len(x)):\n",
    "            xrev[n]=X[n]\n",
    "    for i in range(len(x)):\n",
    "        X[i]=xrev[bitrev(i,l)]\n",
    "    return np.round(X)\n",
    "print(mfft(x))\n",
    "print(np.round(fft(x)))"
   ]
  },
  {
   "cell_type": "code",
   "execution_count": null,
   "id": "5e993359",
   "metadata": {},
   "outputs": [],
   "source": []
  }
 ],
 "metadata": {
  "kernelspec": {
   "display_name": "Python 3 (ipykernel)",
   "language": "python",
   "name": "python3"
  },
  "language_info": {
   "codemirror_mode": {
    "name": "ipython",
    "version": 3
   },
   "file_extension": ".py",
   "mimetype": "text/x-python",
   "name": "python",
   "nbconvert_exporter": "python",
   "pygments_lexer": "ipython3",
   "version": "3.9.12"
  }
 },
 "nbformat": 4,
 "nbformat_minor": 5
}
