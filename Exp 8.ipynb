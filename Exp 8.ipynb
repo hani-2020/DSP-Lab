{
 "cells": [
  {
   "cell_type": "code",
   "execution_count": 1,
   "id": "a4e4e4f1",
   "metadata": {},
   "outputs": [],
   "source": [
    "import numpy as np\n",
    "import math"
   ]
  },
  {
   "cell_type": "code",
   "execution_count": 2,
   "id": "945a48e4",
   "metadata": {},
   "outputs": [],
   "source": [
    "def circonv(x,y):\n",
    "    g=np.array(x)\n",
    "    h=np.array(y)\n",
    "    if g.size != h.size:\n",
    "        raise Exception(\"Sequences not of same length\")\n",
    "    N = g.size \n",
    "    htr=np.concatenate([[h[0]], h[:0:-1]])\n",
    "    y=np.zeros(N)\n",
    "    for n in np.arange(N):\n",
    "        y[n]=np.sum(g*htr)\n",
    "        htr=np.roll(htr,1)\n",
    "    Y=y.tolist()\n",
    "    return Y"
   ]
  },
  {
   "cell_type": "code",
   "execution_count": 3,
   "id": "e6b416c1",
   "metadata": {},
   "outputs": [],
   "source": [
    "def os(sig,imp):\n",
    "    M=len(imp)\n",
    "    N=len(sig)+2*(M-1)\n",
    "    L=N-M+1\n",
    "    h=imp+[0]*(L-1)\n",
    "    x_block=[0]*N\n",
    "    Y=[]\n",
    "    i=0\n",
    "    j=0\n",
    "    while i<len(sig):\n",
    "        x_block=x_block[len(x_block)-M+1:]+sig[i:((j+1)*L)]\n",
    "        i=(j+1)*L\n",
    "        j=j+1\n",
    "        if len(x_block)<N:\n",
    "            x_block=x_block+[0]*(N-len(x_block))\n",
    "        y_block=circonv(x_block,h)\n",
    "        Y=Y+y_block[M-1:]\n",
    "    return Y"
   ]
  },
  {
   "cell_type": "code",
   "execution_count": 4,
   "id": "a4b757ef",
   "metadata": {},
   "outputs": [
    {
     "name": "stdout",
     "output_type": "stream",
     "text": [
      "[3.0, 2.0, 2.0, 0.0, 4.0, 6.0, 5.0, 3.0, 3.0, 4.0, 3.0, 1.0]\n",
      "[3 2 2 0 4 6 5 3 3 4 3 1]\n",
      "\n",
      "\n",
      "[2.0, -6.0, 18.0, -24.0, 26.0, -5.0, -2.0, -4.0, -9.0, 14.0, -20.0, 28.0, -3.0, 9.0]\n",
      "[  2  -6  18 -24  26  -5  -2  -4  -9  14 -20  28  -3   9]\n",
      "\n",
      "\n",
      "[3.0, 8.0, 14.0, 18.0, 17.0, 13.0, 4.0, -5.0, -13.0, 6.0, 23.0, 11.0, 15.0, 9.0, 7.0, 9.0, 4.0, 3.0, 1.0]\n",
      "[  3   8  14  18  17  13   4  -5 -13   6  23  11  15   9   7   9   4   3\n",
      "   1]\n"
     ]
    }
   ],
   "source": [
    "sig1=[3,-1,0,1,3,2,0,1,2,1]\n",
    "imp1=[1,1,1]\n",
    "print(os(sig1,imp1))\n",
    "print(np.convolve(sig1,imp1))\n",
    "print(\"\\n\")\n",
    "sig2=[2,-2,8,-2,-2,-3,-2,1,-1,9,1,3]\n",
    "imp2=[1,-2,3]\n",
    "print(os(sig2,imp2))\n",
    "print(np.convolve(sig2,imp2))\n",
    "print(\"\\n\")\n",
    "sig3=[1,2,3,3,2,1,-1,-2,-3,5,6,-1,2,0,2,1]\n",
    "imp3=[3,2,1,1]\n",
    "print(os(sig3,imp3))\n",
    "print(np.convolve(sig3,imp3))"
   ]
  },
  {
   "cell_type": "code",
   "execution_count": 5,
   "id": "887ac84b",
   "metadata": {},
   "outputs": [],
   "source": [
    "def oa(sig,imp):\n",
    "    M=len(imp)\n",
    "    N=len(sig)+1\n",
    "    L=N-M+1\n",
    "    h=imp+[0]*(L-1)\n",
    "    x_block=[0]*N\n",
    "    i=0\n",
    "    j=0\n",
    "    count=0\n",
    "    while i<len(sig):\n",
    "        i=(j+1)*L\n",
    "        j=j+1\n",
    "        count=count+1\n",
    "    conv_mat=[]\n",
    "    i=0\n",
    "    j=0\n",
    "    while i<len(sig):\n",
    "        x_block=sig[i:((j+1)*L)]+[0]*(M-1)\n",
    "        if len(x_block)!=len(sig)+1:\n",
    "            x_block=x_block+[0]*(len(sig)+1-len(x_block))\n",
    "        i=(j+1)*L\n",
    "        y_block=circonv(x_block,h)\n",
    "        conv_mat.append(y_block)\n",
    "        j=j+1\n",
    "    Y=[]\n",
    "    k=0\n",
    "    mid_block=[0]*(M-1)\n",
    "    midblock_mat=[]\n",
    "    while k+1<count:\n",
    "        temp1=conv_mat[k]\n",
    "        temp2=conv_mat[k+1]\n",
    "        for l in range(M-1):\n",
    "            mid_block[l]=temp1[N-M+1+l]+temp2[l]\n",
    "        midblock_mat.append(mid_block)\n",
    "        k=k+1\n",
    "    for m in range(count):\n",
    "        mat1=conv_mat[m]\n",
    "        temp1=mat1\n",
    "        if m==0:\n",
    "            mat2=midblock_mat[m]\n",
    "            temp2=mat2\n",
    "            temp3=temp1[:N-M+1]+temp2\n",
    "            Y=Y+temp3\n",
    "        elif m==count-1:\n",
    "            temp3=temp1[M-1:]\n",
    "            Y=Y+temp3\n",
    "        else:\n",
    "            mat2=midblock_mat[m]\n",
    "            temp2=mat2\n",
    "            temp3=temp1[M-1:N-M+1]+temp2\n",
    "            Y=Y+temp3\n",
    "    return Y[:len(sig)+M-1]"
   ]
  },
  {
   "cell_type": "code",
   "execution_count": 6,
   "id": "ca251ffa",
   "metadata": {},
   "outputs": [
    {
     "name": "stdout",
     "output_type": "stream",
     "text": [
      "[3.0, 8.0, 14.0, 18.0, 17.0, 13.0, 4.0, -5.0, -13.0, 6.0, 23.0, 11.0, 15.0, 9.0, 7.0, 9.0, 4.0, 3.0, 1.0]\n",
      "[  3   8  14  18  17  13   4  -5 -13   6  23  11  15   9   7   9   4   3\n",
      "   1]\n",
      "\n",
      "\n",
      "[3.0, 2.0, 2.0, 0.0, 4.0, 6.0, 5.0, 3.0, 3.0, 4.0, 3.0, 1.0]\n",
      "[3 2 2 0 4 6 5 3 3 4 3 1]\n",
      "\n",
      "\n",
      "[2.0, -6.0, 18.0, -24.0, 26.0, -5.0, -2.0, -4.0, -9.0, 14.0, -20.0, 28.0, -3.0, 9.0]\n",
      "[  2  -6  18 -24  26  -5  -2  -4  -9  14 -20  28  -3   9]\n"
     ]
    }
   ],
   "source": [
    "sig1=[1,2,3,3,2,1,-1,-2,-3,5,6,-1,2,0,2,1]\n",
    "imp1=[3,2,1,1]\n",
    "print(oa(sig1,imp1))\n",
    "print(np.convolve(sig1,imp1))\n",
    "print(\"\\n\")\n",
    "sig2=[3,-1,0,1,3,2,0,1,2,1]\n",
    "imp2=[1,1,1]\n",
    "print(oa(sig2,imp2))\n",
    "print(np.convolve(sig2,imp2))\n",
    "print(\"\\n\")\n",
    "sig3=[2,-2,8,-2,-2,-3,-2,1,-1,9,1,3]\n",
    "imp3=[1,-2,3]\n",
    "print(oa(sig3,imp3))\n",
    "print(np.convolve(sig3,imp3))"
   ]
  },
  {
   "cell_type": "code",
   "execution_count": null,
   "id": "f013236f",
   "metadata": {},
   "outputs": [],
   "source": []
  }
 ],
 "metadata": {
  "kernelspec": {
   "display_name": "Python 3 (ipykernel)",
   "language": "python",
   "name": "python3"
  },
  "language_info": {
   "codemirror_mode": {
    "name": "ipython",
    "version": 3
   },
   "file_extension": ".py",
   "mimetype": "text/x-python",
   "name": "python",
   "nbconvert_exporter": "python",
   "pygments_lexer": "ipython3",
   "version": "3.9.12"
  }
 },
 "nbformat": 4,
 "nbformat_minor": 5
}
