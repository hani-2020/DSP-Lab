{
 "cells": [
  {
   "cell_type": "code",
   "execution_count": 1,
   "id": "938aa84e-6ba6-4c46-8c36-16fa3cd29289",
   "metadata": {},
   "outputs": [
    {
     "data": {
      "text/plain": [
       "array([[ 1.+0.j,  1.+0.j,  1.+0.j,  1.+0.j],\n",
       "       [ 1.+0.j,  0.-1.j, -1.-0.j, -0.+1.j],\n",
       "       [ 1.+0.j, -1.-0.j,  1.+0.j, -1.-0.j],\n",
       "       [ 1.+0.j, -0.+1.j, -1.-0.j,  0.-1.j]])"
      ]
     },
     "execution_count": 1,
     "metadata": {},
     "output_type": "execute_result"
    }
   ],
   "source": [
    "import numpy as np\n",
    "import matplotlib.pyplot as plt\n",
    "N = 4;\n",
    "D = np.empty((N, N), dtype=np.cdouble);\n",
    "W = np.exp(-1j*2*np.pi/N)\n",
    "k = np.arange(N)\n",
    "for n in np.arange(N):\n",
    "    D[:, n]= W**(k*n)\n",
    "print(np.round(D))"
   ]
  },
  {
   "cell_type": "code",
   "execution_count": 4,
   "id": "b81fda4b",
   "metadata": {},
   "outputs": [
    {
     "name": "stdout",
     "output_type": "stream",
     "text": [
      "11.6 µs ± 486 ns per loop (mean ± std. dev. of 7 runs, 100,000 loops each)\n"
     ]
    }
   ],
   "source": [
    "%%timeit\n",
    "x=np.array([[1, 2, 3, 4]]).T\n",
    "X=D@x;\n",
    "np.round(X)"
   ]
  },
  {
   "cell_type": "code",
   "execution_count": 5,
   "id": "36b245af",
   "metadata": {},
   "outputs": [
    {
     "data": {
      "text/plain": [
       "array([[10.+0.j],\n",
       "       [-2.+2.j],\n",
       "       [-2.-0.j],\n",
       "       [-2.-2.j]])"
      ]
     },
     "execution_count": 5,
     "metadata": {},
     "output_type": "execute_result"
    }
   ],
   "source": [
    "x=np.array([[1, 2, 3, 4]]).T\n",
    "X=D@x;\n",
    "np.round(X)"
   ]
  },
  {
   "cell_type": "code",
   "execution_count": 6,
   "id": "adb6f3b3",
   "metadata": {},
   "outputs": [
    {
     "name": "stdout",
     "output_type": "stream",
     "text": [
      "8.29 µs ± 480 ns per loop (mean ± std. dev. of 7 runs, 100,000 loops each)\n"
     ]
    }
   ],
   "source": [
    "%%timeit\n",
    "from scipy import fft\n",
    "fft.fft(x, axis=0)"
   ]
  },
  {
   "cell_type": "code",
   "execution_count": 7,
   "id": "524e5db4",
   "metadata": {},
   "outputs": [
    {
     "data": {
      "text/plain": [
       "array([[10.-0.j],\n",
       "       [-2.+2.j],\n",
       "       [-2.-0.j],\n",
       "       [-2.-2.j]])"
      ]
     },
     "execution_count": 7,
     "metadata": {},
     "output_type": "execute_result"
    }
   ],
   "source": [
    "from scipy import fft\n",
    "fft.fft(x, axis=0)"
   ]
  },
  {
   "cell_type": "code",
   "execution_count": 8,
   "id": "04d0e2fa",
   "metadata": {},
   "outputs": [
    {
     "name": "stdout",
     "output_type": "stream",
     "text": [
      "43.9 µs ± 6.86 µs per loop (mean ± std. dev. of 7 runs, 10,000 loops each)\n"
     ]
    }
   ],
   "source": [
    "%%timeit\n",
    "x=[1,2,3,4]\n",
    "X=[0,0,0,0]\n",
    "for k in range(4):\n",
    "    for n in range(4):\n",
    "        X[k]=X[k]+x[n]*np.exp(-1j*2*np.pi*n*k/4)\n",
    "np.round(X)"
   ]
  },
  {
   "cell_type": "code",
   "execution_count": 9,
   "id": "246e9801",
   "metadata": {},
   "outputs": [
    {
     "data": {
      "text/plain": [
       "array([10.+0.j, -2.+2.j, -2.-0.j, -2.-2.j])"
      ]
     },
     "execution_count": 9,
     "metadata": {},
     "output_type": "execute_result"
    }
   ],
   "source": [
    "x=[1,2,3,4]\n",
    "X=[0,0,0,0]\n",
    "for k in range(4):\n",
    "    for n in range(4):\n",
    "        X[k]=X[k]+x[n]*np.exp(-1j*2*np.pi*n*k/4)\n",
    "np.round(X)"
   ]
  },
  {
   "cell_type": "code",
   "execution_count": 10,
   "id": "c5b816de",
   "metadata": {},
   "outputs": [
    {
     "data": {
      "text/plain": [
       "array([[1.+0.j, 1.+0.j, 1.+0.j, ..., 1.+0.j, 1.+0.j, 1.+0.j],\n",
       "       [1.+0.j, 1.-0.j, 1.-0.j, ..., 1.+0.j, 1.+0.j, 1.+0.j],\n",
       "       [1.+0.j, 1.-0.j, 1.-0.j, ..., 1.+1.j, 1.+0.j, 1.+0.j],\n",
       "       ...,\n",
       "       [1.+0.j, 1.+0.j, 1.+1.j, ..., 1.-1.j, 1.-1.j, 1.-0.j],\n",
       "       [1.+0.j, 1.+0.j, 1.+0.j, ..., 1.-1.j, 1.-0.j, 1.-0.j],\n",
       "       [1.+0.j, 1.+0.j, 1.+0.j, ..., 1.-0.j, 1.-0.j, 1.-0.j]])"
      ]
     },
     "execution_count": 10,
     "metadata": {},
     "output_type": "execute_result"
    }
   ],
   "source": [
    "N = 64;\n",
    "D = np.empty((N, N), dtype=np.cdouble);\n",
    "W = np.exp(-1j*2*np.pi/N)\n",
    "k = np.arange(N)\n",
    "for n in np.arange(N):\n",
    "    D[:, n]= W**(k*n)\n",
    "np.round(D)"
   ]
  },
  {
   "cell_type": "code",
   "execution_count": 11,
   "id": "aadd61b3",
   "metadata": {},
   "outputs": [
    {
     "data": {
      "text/plain": [
       "<matplotlib.image.AxesImage at 0x1f5cbbeb9a0>"
      ]
     },
     "execution_count": 11,
     "metadata": {},
     "output_type": "execute_result"
    },
    {
     "data": {
      "image/png": "[encoded data removed]",
      "text/plain": [
       "<Figure size 576x576 with 2 Axes>"
      ]
     },
     "metadata": {
      "needs_background": "light"
     },
     "output_type": "display_data"
    }
   ],
   "source": [
    "fig, (ax1,ax2)=plt.subplots(2,1,figsize=(8,8))\n",
    "ax1.imshow(D.real)\n",
    "ax2.imshow(D.imag)"
   ]
  }
 ],
 "metadata": {
  "kernelspec": {
   "display_name": "Python 3 (ipykernel)",
   "language": "python",
   "name": "python3"
  },
  "language_info": {
   "codemirror_mode": {
    "name": "ipython",
    "version": 3
   },
   "file_extension": ".py",
   "mimetype": "text/x-python",
   "name": "python",
   "nbconvert_exporter": "python",
   "pygments_lexer": "ipython3",
   "version": "3.9.12"
  }
 },
 "nbformat": 4,
 "nbformat_minor": 5
}
